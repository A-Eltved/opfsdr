{
 "cells": [
  {
   "cell_type": "markdown",
   "metadata": {},
   "source": [
    "# Semidefinite Relaxation of AC Optimal Power Flow Problems"
   ]
  },
  {
   "cell_type": "markdown",
   "metadata": {},
   "source": [
    "This notebook demonstrates the use of semidefinite relaxation techniques for AC optimal power flow (ACOPF) problems. A description of the problem formulation and its implementation can be found in the following paper:\n",
    "\n",
    "> M. S. Andersen, A. Hansson, L. Vandenberghe, \"[Reduced-Complexity Semidefinite Relaxations of Optimal Power Flow Problems](https://doi.org/10.1109/TPWRS.2013.2294479)\", IEEE Transactions on Power Systems, 29 (4), pp. 1855–1863, 2014.\n",
    "\n",
    "To run this notebook, you will need [CVXOPT](http://cvxopt.org), [CHOMPACK](https://cvxopt.github.io/chompack), [MOSEK](https://www.mosek.com), and [Matplotlib](http://matplotlib.org)."
   ]
  },
  {
   "cell_type": "markdown",
   "metadata": {},
   "source": [
    "## Test cases\n",
    "\n",
    "[MATPOWER](https://github.com/MATPOWER/matpower) provides a number of test cases that are basically MATLAB m-files, most of which (those that do not perform any computations) can be loaded directly from a file or from a url. For example, the following code\n",
    "```\n",
    "from opfsdr import opf\n",
    "prob = opf('https://github.com/MATPOWER/matpower/blob/master/data/case300.m')\n",
    "```\n",
    "downloads the `case300` test case from the MATPOWER repository on Github and generates a semidefinite relaxation problem. Alternatively, using the [Github API](https://developer.github.com/v3/), a list of test cases and their urls can be retrieved from the MATPOWER repository as follows:"
   ]
  },
  {
   "cell_type": "code",
   "execution_count": 1,
   "metadata": {},
   "outputs": [],
   "source": [
    "import json, re\n",
    "import requests\n",
    "testcases = {}\n",
    "clist = []\n",
    "\n",
    "# Retrieve list of MATPOWER test cases\n",
    "response = requests.get('https://api.github.com/repos/MATPOWER/matpower/contents/data')\n",
    "clist += json.loads(response.text)\n",
    "\n",
    "# Retrieve list of pglib-opf test cases\n",
    "response = requests.get('https://api.github.com/repos/power-grid-lib/pglib-opf/contents/')\n",
    "clist += json.loads(response.text)\n",
    "response = requests.get('https://api.github.com/repos/power-grid-lib/pglib-opf/contents/api')\n",
    "clist += json.loads(response.text)\n",
    "response = requests.get('https://api.github.com/repos/power-grid-lib/pglib-opf/contents/sad')\n",
    "clist += json.loads(response.text)\n",
    "\n",
    "# Build list of test cases\n",
    "for c in clist:\n",
    "    if not c['name'].endswith('.m'): continue\n",
    "    casename = c['name'].split('.')[0]\n",
    "    testcases[casename] = c['download_url']"
   ]
  },
  {
   "cell_type": "markdown",
   "metadata": {},
   "source": [
    "## Building and solving ACOPFs\n",
    "\n",
    "The following example illustrates how to use `opfsdr` to download a test case, form a semidefinite relaxation problem, and how solve this problem:"
   ]
  },
  {
   "cell_type": "code",
   "execution_count": 2,
   "metadata": {
    "scrolled": true
   },
   "outputs": [
    {
     "name": "stdout",
     "output_type": "stream",
     "text": [
      "Test case: pglib_opf_case1354_pegase__sad\n",
      "Downloading case file: https://raw.githubusercontent.com/power-grid-lib/pglib-opf/master/sad/pglib_opf_case1354_pegase__sad.m.\n",
      "Extracting data from case file.\n",
      "Warning: generator at bus 4231 with large reactive bound(s); decreasing bound(s)\n",
      "Warning: generator at bus 8109 with large reactive bound(s); decreasing bound(s)\n",
      "Warning: branch (1780:549->5002) with small resistance; enforcing min. resistance\n",
      "Building cone LP.\n",
      "Applying chordal conversion to cone LP.\n",
      "Converting to real-valued cone LP.\n",
      "CPU times: user 988 ms, sys: 84.9 ms, total: 1.07 s\n",
      "Wall time: 1.23 s\n",
      "Optimal power flow problem\n",
      "* busses             :   1354\n",
      "* generators         :    260\n",
      "   -  const. gen.    :      0\n",
      "   -  lin. cost      :    260\n",
      "   -  quad. cost     :      0\n",
      "* branches           :   1991\n",
      "   -  flow constr.   :   1788\n",
      "   -  phase constr.  :   1991\n",
      "   -  transformer    :    234\n"
     ]
    }
   ],
   "source": [
    "from opfsdr import opf\n",
    "\n",
    "case = 'pglib_opf_case1354_pegase__sad'\n",
    "print(\"Test case: %s\" % case)\n",
    "options = {'conversion': True,          # apply chordal conversion? (default: False)\n",
    "           'tfill': 8,                  #   use clique merging heuristic based on fill (default: 0)\n",
    "           'tsize': 8,                  #   use clique merging heuristic based on clique size (default: 0)\n",
    "           'branch_rmin': 1e-5,         # minimum transmission line resistance (default: -inf)\n",
    "           'line_constraints': True,    # include apparent power flow constraints in problem formulation\n",
    "           'pad_constraints': True,     # include phase angle difference constraints\n",
    "           'truncate_gen_bounds': 50.,  # reduce large generator bounds (default: None)\n",
    "           'verbose': 1,                # print info, progress, etc. (default: 0)\n",
    "           'scale': False               # apply scaling heuristic to cone LP? (default: False)\n",
    "          }\n",
    "\n",
    "%time prob = opf(testcases[case], **options)\n",
    "\n",
    "print(prob)"
   ]
  },
  {
   "cell_type": "markdown",
   "metadata": {},
   "source": [
    "The semidefinite relaxation can be solved with MOSEK as follows:"
   ]
  },
  {
   "cell_type": "code",
   "execution_count": 3,
   "metadata": {
    "scrolled": true
   },
   "outputs": [
    {
     "name": "stdout",
     "output_type": "stream",
     "text": [
      "Problem\n",
      "  Name                   :                 \n",
      "  Objective sense        : max             \n",
      "  Type                   : CONIC (conic optimization problem)\n",
      "  Constraints            : 23356           \n",
      "  Cones                  : 3576            \n",
      "  Scalar variables       : 18458           \n",
      "  Matrix variables       : 203             \n",
      "  Integer variables      : 0               \n",
      "\n",
      "Optimizer started.\n",
      "Conic interior-point optimizer started.\n",
      "Presolve started.\n",
      "Linear dependency checker started.\n",
      "Linear dependency checker terminated.\n",
      "Eliminator - tries                  : 0                 time                   : 0.00            \n",
      "Lin. dep.  - tries                  : 1                 time                   : 0.01            \n",
      "Lin. dep.  - number                 : 0               \n",
      "Presolve terminated. Time: 0.02    \n",
      "Optimizer  - threads                : 4               \n",
      "Optimizer  - solved problem         : the primal      \n",
      "Optimizer  - Constraints            : 19260\n",
      "Optimizer  - Cones                  : 3576\n",
      "Optimizer  - Scalar variables       : 17938             conic                  : 10728           \n",
      "Optimizer  - Semi-definite variables: 203               scalarized             : 53418           \n",
      "Factor     - setup time             : 0.36              dense det. time        : 0.00            \n",
      "Factor     - ML order time          : 0.15              GP order time          : 0.00            \n",
      "Factor     - nonzeros before factor : 2.23e+06          after factor           : 2.43e+06        \n",
      "Factor     - dense dim.             : 0                 flops                  : 4.94e+08        \n",
      "ITE PFEAS    DFEAS    GFEAS    PRSTATUS   POBJ              DOBJ              MU       TIME  \n",
      "0   2.1e+00  6.3e+03  1.0e+00  0.00e+00   0.000000000e+00   0.000000000e+00   1.0e+00  0.44  \n",
      "1   4.8e-01  1.5e+03  1.1e-01  -1.00e+00  5.408170784e+06   5.404742320e+06   2.3e-01  0.71  \n",
      "2   3.4e-01  1.0e+03  6.8e-02  -9.47e-01  7.805989401e+06   7.801093211e+06   1.6e-01  0.90  \n",
      "3   2.3e-01  7.0e+02  4.6e-02  -7.31e-01  8.779653732e+06   8.774522920e+06   1.1e-01  1.10  \n",
      "4   1.6e-01  4.9e+02  4.7e-02  1.04e-01   6.069297520e+06   6.067108274e+06   7.7e-02  1.30  \n",
      "5   9.2e-02  2.8e+02  5.3e-02  1.22e+00   3.071624557e+06   3.071122714e+06   4.4e-02  1.49  \n",
      "6   6.0e-02  1.8e+02  5.2e-02  1.90e+00   1.748639512e+06   1.748419151e+06   2.9e-02  1.69  \n",
      "7   5.4e-02  1.6e+02  5.0e-02  1.69e+00   1.513405137e+06   1.513214827e+06   2.6e-02  1.88  \n",
      "8   4.2e-02  1.3e+02  4.5e-02  1.58e+00   1.189353848e+06   1.189209990e+06   2.0e-02  2.20  \n",
      "9   3.3e-02  1.0e+02  4.0e-02  1.44e+00   9.418276291e+05   9.417158585e+05   1.6e-02  2.55  \n",
      "10  2.9e-02  8.9e+01  3.8e-02  1.27e+00   8.547948829e+05   8.546927412e+05   1.4e-02  3.02  \n",
      "11  2.5e-02  7.6e+01  3.4e-02  1.19e+00   7.437776757e+05   7.436878317e+05   1.2e-02  3.34  \n",
      "12  1.7e-02  5.1e+01  2.8e-02  1.18e+00   5.380570400e+05   5.379974212e+05   8.0e-03  3.65  \n",
      "13  1.5e-02  4.5e+01  2.7e-02  1.02e+00   4.929875576e+05   4.929347246e+05   7.1e-03  3.85  \n",
      "14  1.3e-02  4.0e+01  2.5e-02  1.02e+00   4.559405650e+05   4.558913402e+05   6.4e-03  4.06  \n",
      "15  1.0e-02  3.2e+01  2.2e-02  9.82e-01   3.800810440e+05   3.800414542e+05   5.0e-03  4.29  \n",
      "16  9.6e-03  2.9e+01  2.1e-02  9.31e-01   3.612668541e+05   3.612291807e+05   4.6e-03  4.52  \n",
      "17  7.8e-03  2.4e+01  1.8e-02  9.03e-01   3.095782559e+05   3.095470715e+05   3.8e-03  4.74  \n",
      "18  5.9e-03  1.8e+01  1.6e-02  9.04e-01   2.521643866e+05   2.521395202e+05   2.8e-03  4.97  \n",
      "19  5.2e-03  1.6e+01  1.4e-02  8.34e-01   2.267293348e+05   2.267067343e+05   2.5e-03  5.24  \n",
      "20  4.5e-03  1.4e+01  1.3e-02  9.19e-01   2.030227060e+05   2.030029590e+05   2.2e-03  5.45  \n",
      "21  3.7e-03  1.1e+01  1.2e-02  9.20e-01   1.739929222e+05   1.739766742e+05   1.8e-03  5.85  \n",
      "22  2.8e-03  8.5e+00  1.0e-02  9.21e-01   1.424361404e+05   1.424235936e+05   1.3e-03  6.09  \n",
      "23  2.3e-03  7.0e+00  9.3e-03  9.05e-01   1.234741994e+05   1.234637282e+05   1.1e-03  6.29  \n",
      "24  2.0e-03  6.1e+00  8.7e-03  8.96e-01   1.129883894e+05   1.129789984e+05   9.7e-04  6.49  \n",
      "25  1.7e-03  5.2e+00  7.9e-03  8.88e-01   1.004050387e+05   1.003969185e+05   8.2e-04  6.72  \n",
      "26  1.3e-03  3.9e+00  6.7e-03  8.86e-01   8.233374323e+04   8.232742055e+04   6.1e-04  6.91  \n",
      "27  1.1e-03  3.2e+00  6.0e-03  8.48e-01   7.292044101e+04   7.291492164e+04   5.1e-04  7.11  \n",
      "28  9.0e-04  2.7e+00  5.4e-03  8.30e-01   6.491873695e+04   6.491392240e+04   4.3e-04  7.31  \n",
      "29  6.6e-04  2.0e+00  4.4e-03  8.15e-01   5.309380752e+04   5.308989114e+04   3.1e-04  7.51  \n",
      "30  6.5e-04  2.0e+00  4.4e-03  -3.86e-02  5.289894505e+04   5.289499813e+04   3.1e-04  7.71  \n",
      "31  6.4e-04  2.0e+00  4.4e-03  5.46e-01   5.224402031e+04   5.224018721e+04   3.1e-04  7.91  \n",
      "32  6.2e-04  1.9e+00  4.2e-03  5.60e-01   5.094848433e+04   5.094469230e+04   3.0e-04  8.11  \n",
      "33  5.8e-04  1.8e+00  4.1e-03  7.13e-01   4.861947870e+04   4.861589776e+04   2.8e-04  8.31  \n",
      "34  5.0e-04  1.5e+00  3.7e-03  7.44e-01   4.408525472e+04   4.408196700e+04   2.4e-04  8.52  \n",
      "35  3.8e-04  1.2e+00  3.1e-03  7.45e-01   3.585588285e+04   3.585328603e+04   1.8e-04  8.75  \n",
      "36  3.3e-04  1.0e+00  2.9e-03  7.44e-01   3.236501600e+04   3.236264302e+04   1.6e-04  8.95  \n",
      "37  3.2e-04  9.6e-01  2.8e-03  6.92e-01   3.146977589e+04   3.146744414e+04   1.5e-04  9.15  \n",
      "38  2.9e-04  8.8e-01  2.7e-03  7.16e-01   2.949452068e+04   2.949236400e+04   1.4e-04  9.35  \n",
      "39  2.8e-04  8.4e-01  2.6e-03  7.18e-01   2.842757888e+04   2.842548360e+04   1.3e-04  9.58  \n",
      "40  2.6e-04  7.9e-01  2.5e-03  7.34e-01   2.710574067e+04   2.710374915e+04   1.2e-04  9.78  \n",
      "41  2.2e-04  6.8e-01  2.2e-03  7.27e-01   2.414998062e+04   2.414816557e+04   1.1e-04  9.98  \n",
      "42  2.0e-04  6.0e-01  2.1e-03  7.00e-01   2.211693557e+04   2.211523951e+04   9.5e-05  10.37 \n",
      "43  1.7e-04  5.2e-01  1.9e-03  7.21e-01   1.977091399e+04   1.976938561e+04   8.3e-05  10.57 \n",
      "44  1.4e-04  4.3e-01  1.6e-03  7.13e-01   1.687034654e+04   1.686898358e+04   6.8e-05  10.77 \n",
      "45  1.3e-04  4.0e-01  1.6e-03  6.67e-01   1.588835646e+04   1.588704278e+04   6.3e-05  10.99 \n",
      "46  1.0e-04  3.2e-01  1.3e-03  6.99e-01   1.294980788e+04   1.294867576e+04   5.0e-05  11.20 \n",
      "47  8.8e-05  2.7e-01  1.2e-03  7.09e-01   1.089688074e+04   1.089586790e+04   4.2e-05  11.39 \n",
      "48  8.0e-05  2.4e-01  1.1e-03  6.82e-01   9.942399673e+03   9.941438942e+03   3.8e-05  11.59 \n",
      "49  6.6e-05  2.0e-01  9.8e-04  6.88e-01   8.081917151e+03   8.081065913e+03   3.2e-05  11.79 \n",
      "50  6.0e-05  1.8e-01  9.2e-04  6.99e-01   7.212152283e+03   7.211350477e+03   2.9e-05  11.98 \n",
      "51  4.8e-05  1.5e-01  8.0e-04  7.06e-01   5.475477828e+03   5.474775696e+03   2.3e-05  12.18 \n",
      "52  4.5e-05  1.4e-01  7.5e-04  6.70e-01   4.946056751e+03   4.945376517e+03   2.1e-05  12.40 \n",
      "53  4.3e-05  1.3e-01  7.4e-04  6.92e-01   4.701186661e+03   4.700523360e+03   2.1e-05  12.60 \n",
      "54  3.4e-05  1.0e-01  6.2e-04  6.77e-01   3.110432812e+03   3.109854184e+03   1.6e-05  12.80 \n",
      "55  3.2e-05  9.7e-02  5.9e-04  6.40e-01   2.772317315e+03   2.771753790e+03   1.5e-05  13.00 \n",
      "56  2.7e-05  8.3e-02  5.3e-04  6.45e-01   1.895548228e+03   1.895021474e+03   1.3e-05  13.20 \n",
      "57  2.5e-05  7.7e-02  5.0e-04  6.08e-01   1.511869370e+03   1.511360316e+03   1.2e-05  13.39 \n",
      "58  2.3e-05  6.9e-02  4.6e-04  6.34e-01   9.144610157e+02   9.139824926e+02   1.1e-05  13.59 \n",
      "59  1.8e-05  5.5e-02  3.9e-04  6.37e-01   -1.568420809e+02  -1.572681208e+02  8.7e-06  13.79 \n",
      "60  1.6e-05  4.8e-02  3.5e-04  5.73e-01   -6.760608334e+02  -6.764715733e+02  7.6e-06  13.99 \n",
      "61  1.4e-05  4.2e-02  3.1e-04  5.53e-01   -1.250993262e+03  -1.251382272e+03  6.6e-06  14.18 \n",
      "62  1.3e-05  3.9e-02  3.0e-04  5.39e-01   -1.507588222e+03  -1.507967581e+03  6.2e-06  14.38 \n",
      "63  1.1e-05  3.2e-02  2.6e-04  5.67e-01   -2.247858505e+03  -2.248203236e+03  5.1e-06  14.58 \n",
      "64  8.6e-06  2.6e-02  2.2e-04  5.78e-01   -2.999312349e+03  -2.999624591e+03  4.1e-06  14.78 \n",
      "65  7.8e-06  2.4e-02  2.0e-04  5.38e-01   -3.302187619e+03  -3.302490014e+03  3.7e-06  14.98 \n",
      "66  7.2e-06  2.2e-02  1.9e-04  5.59e-01   -3.574609921e+03  -3.574900095e+03  3.4e-06  15.18 \n",
      "67  6.6e-06  2.0e-02  1.8e-04  5.70e-01   -3.829002232e+03  -3.829282241e+03  3.2e-06  15.38 \n",
      "68  6.4e-06  2.0e-02  1.8e-04  5.51e-01   -3.917689565e+03  -3.917962881e+03  3.1e-06  15.58 \n",
      "69  5.4e-06  1.7e-02  1.6e-04  5.80e-01   -4.396340274e+03  -4.396591376e+03  2.6e-06  15.77 \n"
     ]
    },
    {
     "name": "stdout",
     "output_type": "stream",
     "text": [
      "70  4.9e-06  1.5e-02  1.5e-04  6.02e-01   -4.653456763e+03  -4.653695536e+03  2.4e-06  15.97 \n",
      "71  4.6e-06  1.4e-02  1.4e-04  6.05e-01   -4.852954472e+03  -4.853184296e+03  2.2e-06  16.16 \n",
      "72  4.3e-06  1.3e-02  1.3e-04  6.03e-01   -4.993836924e+03  -4.994060604e+03  2.1e-06  16.36 \n",
      "73  3.9e-06  1.2e-02  1.2e-04  6.12e-01   -5.219987578e+03  -5.220200682e+03  1.9e-06  16.56 \n",
      "74  3.3e-06  1.0e-02  1.1e-04  6.12e-01   -5.603953304e+03  -5.604149454e+03  1.6e-06  16.76 \n",
      "75  2.9e-06  8.8e-03  9.8e-05  6.02e-01   -5.884370683e+03  -5.884555969e+03  1.4e-06  16.96 \n",
      "76  2.4e-06  7.2e-03  8.5e-05  6.20e-01   -6.288395355e+03  -6.288558215e+03  1.1e-06  17.16 \n",
      "77  2.3e-06  6.9e-03  8.3e-05  6.45e-01   -6.369285272e+03  -6.369443271e+03  1.1e-06  17.35 \n",
      "78  2.0e-06  6.1e-03  7.7e-05  6.58e-01   -6.579995969e+03  -6.580143922e+03  9.7e-07  17.55 \n",
      "79  1.6e-06  4.9e-03  6.6e-05  6.70e-01   -6.956323096e+03  -6.956452308e+03  7.8e-07  17.75 \n",
      "80  1.5e-06  4.6e-03  6.3e-05  7.16e-01   -7.053924512e+03  -7.054048490e+03  7.3e-07  17.95 \n",
      "81  1.4e-06  4.4e-03  6.1e-05  7.34e-01   -7.148877226e+03  -7.148994894e+03  6.9e-07  18.14 \n",
      "82  1.1e-06  3.3e-03  5.1e-05  7.50e-01   -7.523743651e+03  -7.523839687e+03  5.2e-07  18.34 \n",
      "83  8.6e-07  2.6e-03  4.4e-05  7.78e-01   -7.781522576e+03  -7.781604570e+03  4.1e-07  18.54 \n",
      "84  6.7e-07  2.0e-03  3.8e-05  7.93e-01   -8.012953856e+03  -8.013022518e+03  3.2e-07  18.74 \n",
      "85  6.4e-07  1.9e-03  3.6e-05  8.20e-01   -8.045671288e+03  -8.045738518e+03  3.1e-07  18.94 \n",
      "86  5.5e-07  1.7e-03  3.3e-05  8.21e-01   -8.170858324e+03  -8.170917213e+03  2.6e-07  19.14 \n",
      "87  3.8e-07  1.2e-03  2.7e-05  8.56e-01   -8.411902428e+03  -8.411945893e+03  1.8e-07  19.33 \n",
      "88  2.6e-07  8.0e-04  2.2e-05  8.87e-01   -8.585471789e+03  -8.585504140e+03  1.3e-07  19.53 \n",
      "89  2.1e-07  6.2e-04  1.9e-05  8.86e-01   -8.679030705e+03  -8.679056915e+03  9.8e-08  19.73 \n",
      "90  1.2e-07  3.6e-04  1.4e-05  9.02e-01   -8.823066646e+03  -8.823083401e+03  5.7e-08  19.93 \n",
      "91  6.4e-08  1.9e-04  9.6e-06  9.40e-01   -8.922557435e+03  -8.922567348e+03  3.1e-08  20.13 \n",
      "92  5.5e-08  1.7e-04  8.9e-06  9.46e-01   -8.940272954e+03  -8.940281561e+03  2.6e-08  20.33 \n",
      "93  2.8e-08  8.5e-05  6.0e-06  9.45e-01   -8.993784762e+03  -8.993789579e+03  1.3e-08  20.54 \n",
      "94  1.8e-08  5.4e-05  4.7e-06  9.59e-01   -9.016247429e+03  -9.016250585e+03  8.5e-09  20.73 \n",
      "95  1.2e-08  3.8e-05  3.9e-06  9.70e-01   -9.027883213e+03  -9.027885491e+03  6.0e-09  20.97 \n",
      "96  8.1e-09  2.5e-05  3.1e-06  9.79e-01   -9.037770135e+03  -9.037771656e+03  3.9e-09  21.40 \n",
      "97  5.3e-09  1.6e-05  2.5e-06  9.84e-01   -9.044361628e+03  -9.044362642e+03  2.5e-09  21.75 \n",
      "98  8.2e-10  2.5e-06  9.6e-07  9.91e-01   -9.055129767e+03  -9.055129930e+03  3.9e-10  22.02 \n",
      "Interior-point optimizer terminated. Time: 22.04. \n",
      "\n",
      "Optimizer terminated. Time: 22.08   \n",
      "\n",
      "Interior-point solution summary\n",
      "  Problem status  : PRIMAL_AND_DUAL_FEASIBLE\n",
      "  Solution status : OPTIMAL\n",
      "  Primal.  obj: -9.0551297674e+03   nrm: 1e+02    Viol.  con: 4e-03    var: 1e-03    barvar: 0e+00    cones: 0e+00  \n",
      "  Dual.    obj: -9.0551299300e+03   nrm: 1e+05    Viol.  con: 0e+00    var: 1e-06    barvar: 5e-06    cones: 0e+00  \n",
      "CPU times: user 35.9 s, sys: 1.74 s, total: 37.6 s\n",
      "Wall time: 23 s\n"
     ]
    }
   ],
   "source": [
    "# Solve semidefinite relaxation\n",
    "%time sol = prob.solve(solver=\"mosek\")"
   ]
  },
  {
   "cell_type": "code",
   "execution_count": 4,
   "metadata": {},
   "outputs": [
    {
     "name": "stdout",
     "output_type": "stream",
     "text": [
      "Solver status: optimal\n"
     ]
    }
   ],
   "source": [
    "print(\"Solver status: %s\" % sol['status'])"
   ]
  },
  {
   "cell_type": "markdown",
   "metadata": {},
   "source": [
    "The objective value associated with the semidefinite relaxation does not include constant cost, and hence it is not necessarily equal to the cost of generation: the cost of generation is available as `sol['cost']`: "
   ]
  },
  {
   "cell_type": "code",
   "execution_count": 5,
   "metadata": {},
   "outputs": [
    {
     "name": "stdout",
     "output_type": "stream",
     "text": [
      "Generation cost: 1356352.94 USD/hour (fixed cost: 450839.96 USD/hour)\n"
     ]
    }
   ],
   "source": [
    "print(\"Generation cost: %.2f USD/hour (fixed cost: %.2f USD/hour)\"%(sol['cost'],prob.const_cost))"
   ]
  },
  {
   "cell_type": "markdown",
   "metadata": {},
   "source": [
    "## Eigenvalue ratio(s)"
   ]
  },
  {
   "cell_type": "code",
   "execution_count": 6,
   "metadata": {},
   "outputs": [
    {
     "name": "stdout",
     "output_type": "stream",
     "text": [
      "Populating the interactive namespace from numpy and matplotlib\n",
      "Cliques with eigenvalue ratio less than 1e5: 81 of 203\n"
     ]
    },
    {
     "data": {
      "image/png": "[encoded data removed]",
      "text/plain": [
       "<matplotlib.figure.Figure at 0x10aaec828>"
      ]
     },
     "metadata": {},
     "output_type": "display_data"
    }
   ],
   "source": [
    "%pylab inline\n",
    "from pylab import plot,xlabel,ylabel,arange,linspace,hist,xscale,rcParams\n",
    "rcParams['figure.figsize'] = (10, 6)\n",
    "\n",
    "if len(sol['eigratio']) == 1:\n",
    "    print(\"Eigenvalue ratio: %.2e\" % (sol['eigratio'][0]))\n",
    "else:\n",
    "    import numpy as np\n",
    "    hist(sol['eigratio'],bins=[10.**a for a in linspace(0,9,100)])\n",
    "    xscale('log')\n",
    "    xlabel('Clique eigenvalue ratio')\n",
    "    ylabel('Frequency')\n",
    "    print(\"Cliques with eigenvalue ratio less than 1e5: %i of %i\"\\\n",
    "          % (len([1 for evr in sol['eigratio'] if evr < 1e5]),len(sol['eigratio'])))"
   ]
  },
  {
   "cell_type": "markdown",
   "metadata": {},
   "source": [
    "## Generation"
   ]
  },
  {
   "cell_type": "code",
   "execution_count": 7,
   "metadata": {},
   "outputs": [
    {
     "data": {
      "image/png": "[encoded data removed]",
      "text/plain": [
       "<matplotlib.figure.Figure at 0x10ab610f0>"
      ]
     },
     "metadata": {},
     "output_type": "display_data"
    }
   ],
   "source": [
    "pmin = np.array([gen['Pmin'] for gen in prob.generators])*prob.baseMVA\n",
    "pmax = np.array([gen['Pmax'] for gen in prob.generators])*prob.baseMVA\n",
    "hist((np.array(sol['Sg'].real().T).squeeze()-pmin)/(pmax-pmin),20)\n",
    "xlabel(r'$\\frac{P_{\\mathrm{g}}-P_{\\mathrm{g}}^{\\min}}{P_{\\mathrm{g}}^{\\max} - P_{\\mathrm{g}}^{\\min}}$')\n",
    "ylabel('Number of generators');"
   ]
  },
  {
   "cell_type": "code",
   "execution_count": 8,
   "metadata": {},
   "outputs": [
    {
     "data": {
      "image/png": "[encoded data removed]",
      "text/plain": [
       "<matplotlib.figure.Figure at 0x120298470>"
      ]
     },
     "metadata": {},
     "output_type": "display_data"
    }
   ],
   "source": [
    "pmin = np.array([gen['Qmin'] for gen in prob.generators])*prob.baseMVA\n",
    "pmax = np.array([gen['Qmax'] for gen in prob.generators])*prob.baseMVA\n",
    "hist((np.array(sol['Sg'].imag().T).squeeze()-pmin)/(pmax-pmin),20)\n",
    "xlabel(r'$\\frac{Q_{\\mathrm{g}}-Q_{\\mathrm{g}}^{\\min}}{Q_{\\mathrm{g}}^{\\max} - Q_{\\mathrm{g}}^{\\min}}$')\n",
    "ylabel('Number of generators');"
   ]
  },
  {
   "cell_type": "markdown",
   "metadata": {},
   "source": [
    "## Voltage magnitude constraints"
   ]
  },
  {
   "cell_type": "code",
   "execution_count": 9,
   "metadata": {},
   "outputs": [
    {
     "data": {
      "image/png": "[encoded data removed]",
      "text/plain": [
       "<matplotlib.figure.Figure at 0x120230390>"
      ]
     },
     "metadata": {},
     "output_type": "display_data"
    }
   ],
   "source": [
    "minvm = np.array([b['minVm'] for b in prob.busses])\n",
    "maxvm = np.array([b['maxVm'] for b in prob.busses])\n",
    "hist((np.array(sol['Vm']).squeeze()-minvm)/(maxvm-minvm),20)\n",
    "xlabel(r'$\\frac{|V| - V_{\\min}}{V_{\\max}-V_{\\min}}$')\n",
    "ylabel('Number of busses');"
   ]
  },
  {
   "cell_type": "markdown",
   "metadata": {},
   "source": [
    "## Flow constraints"
   ]
  },
  {
   "cell_type": "code",
   "execution_count": 10,
   "metadata": {
    "scrolled": false
   },
   "outputs": [
    {
     "data": {
      "image/png": "[encoded data removed]",
      "text/plain": [
       "<matplotlib.figure.Figure at 0x11f845c50>"
      ]
     },
     "metadata": {},
     "output_type": "display_data"
    }
   ],
   "source": [
    "if prob.branches_with_flow_constraints():\n",
    "    Sapp = np.array(abs(sol['St'])).squeeze()\n",
    "    Smax = np.array([br['rateA'] for _,br in prob.branches_with_flow_constraints()])\n",
    "    hist(Sapp/Smax,20)\n",
    "    \n",
    "    pyplot.xlabel(r'$\\frac{|S_{i,j}|}{S_{i,j}^{\\max}}$')\n",
    "    pyplot.ylabel('Number of transmission lines')\n",
    "else:\n",
    "    print(\"No flow constraints.\")"
   ]
  }
 ],
 "metadata": {
  "kernelspec": {
   "display_name": "Python 3",
   "language": "python",
   "name": "python3"
  },
  "language_info": {
   "codemirror_mode": {
    "name": "ipython",
    "version": 3
   },
   "file_extension": ".py",
   "mimetype": "text/x-python",
   "name": "python",
   "nbconvert_exporter": "python",
   "pygments_lexer": "ipython3",
   "version": "3.6.3"
  }
 },
 "nbformat": 4,
 "nbformat_minor": 2
}
