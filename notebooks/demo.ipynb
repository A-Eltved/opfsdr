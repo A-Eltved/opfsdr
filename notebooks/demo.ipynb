{
 "cells": [
  {
   "cell_type": "markdown",
   "metadata": {},
   "source": [
    "# Semidefinite Relaxation of AC Optimal Power Flow Problems"
   ]
  },
  {
   "cell_type": "markdown",
   "metadata": {},
   "source": [
    "This notebook demonstrates the use of semidefinite relaxation techniques for AC optimal power flow (ACOPF) problems. A description of the problem formulation and its implementation can be found in the following papers:\n",
    "\n",
    "> M. S. Andersen, A. Hansson, L. Vandenberghe, \"[Reduced-Complexity Semidefinite Relaxations of Optimal Power Flow Problems](https://doi.org/10.1109/TPWRS.2013.2294479)\", IEEE Transactions on Power Systems, 29 (4), pp. 1855–1863, 2014.\n",
    "\n",
    "> A. Eltved, J. Dahl, M. S. Andersen, \"[On the Robustness and Scalability of Semidefinite Relaxation for Optimal Power Flow Problems](https://arxiv.org/abs/1806.08620)\", arXiv (math.OC), 2018.\n",
    "\n",
    "To run this notebook, you will need [CVXOPT](http://cvxopt.org), [CHOMPACK](https://cvxopt.github.io/chompack), [MOSEK](https://www.mosek.com), and [Matplotlib](http://matplotlib.org)."
   ]
  },
  {
   "cell_type": "markdown",
   "metadata": {},
   "source": [
    "## Test cases\n",
    "\n",
    "[MATPOWER](https://github.com/MATPOWER/matpower) provides a number of test cases that are basically MATLAB m-files, most of which (those that do not perform any computations) can be loaded directly from a file or from a url. For example, the following code\n",
    "```\n",
    "from opfsdr import opf\n",
    "prob = opf('https://raw.githubusercontent.com/MATPOWER/matpower/master/data/case300.m')\n",
    "```\n",
    "downloads the `case300` test case from the MATPOWER repository on Github and generates a semidefinite relaxation problem. Alternatively, using the [Github API](https://developer.github.com/v3/), a list of test cases and their urls can be retrieved from the MATPOWER repository as follows:"
   ]
  },
  {
   "cell_type": "code",
   "execution_count": 1,
   "metadata": {},
   "outputs": [],
   "source": [
    "import json, re\n",
    "import requests\n",
    "testcases = {}\n",
    "clist = []\n",
    "\n",
    "# Retrieve list of MATPOWER test cases\n",
    "response = requests.get('https://api.github.com/repos/MATPOWER/matpower/contents/data')\n",
    "clist += json.loads(response.text)\n",
    "\n",
    "# Retrieve list of pglib-opf test cases\n",
    "response = requests.get('https://api.github.com/repos/power-grid-lib/pglib-opf/contents/')\n",
    "clist += json.loads(response.text)\n",
    "response = requests.get('https://api.github.com/repos/power-grid-lib/pglib-opf/contents/api')\n",
    "clist += json.loads(response.text)\n",
    "response = requests.get('https://api.github.com/repos/power-grid-lib/pglib-opf/contents/sad')\n",
    "clist += json.loads(response.text)\n",
    "\n",
    "# Build list of test cases\n",
    "for c in clist:\n",
    "    if not c['name'].endswith('.m'): continue\n",
    "    casename = c['name'].split('.')[0]\n",
    "    testcases[casename] = c['download_url']"
   ]
  },
  {
   "cell_type": "markdown",
   "metadata": {},
   "source": [
    "## Building and solving ACOPFs\n",
    "\n",
    "The following example illustrates how to use `opfsdr` to download a test case, form a semidefinite relaxation problem, and how solve this problem:"
   ]
  },
  {
   "cell_type": "code",
   "execution_count": 2,
   "metadata": {
    "scrolled": true
   },
   "outputs": [
    {
     "name": "stdout",
     "output_type": "stream",
     "text": [
      "Test case: case1354pegase\n",
      "Downloading case file: https://raw.githubusercontent.com/MATPOWER/matpower/master/data/case1354pegase.m.\n",
      "Extracting data from case file.\n",
      "Warning: generator at bus 4231 with large reactive bound(s); decreasing bound(s)\n",
      "Warning: generator at bus 8109 with large reactive bound(s); decreasing bound(s)\n",
      "Warning: branch (1780:549->5002) with small resistance; enforcing min. resistance\n",
      "Building cone LP.\n",
      "Applying chordal conversion to cone LP.\n",
      "Converting to real-valued cone LP.\n",
      "CPU times: user 905 ms, sys: 77.1 ms, total: 982 ms\n",
      "Wall time: 1.04 s\n",
      "Optimal power flow problem\n",
      "* busses             :   1354\n",
      "* generators         :    260\n",
      "   -  const. gen.    :      0\n",
      "   -  lin. cost      :    260\n",
      "   -  quad. cost     :      0\n",
      "* branches           :   1991\n",
      "   -  flow constr.   :   1432\n",
      "   -  phase constr.  :      0\n",
      "   -  transformer    :    234\n"
     ]
    }
   ],
   "source": [
    "from opfsdr import opf\n",
    "\n",
    "#case = 'pglib_opf_case1354_pegase__sad'\n",
    "case = 'case1354pegase'\n",
    "print(\"Test case: %s\" % case)\n",
    "options = {'conversion': True,          # apply chordal conversion? (default: False)\n",
    "           'tfill': 16,                 #   use clique merging heuristic based on fill (default: 0)\n",
    "           'tsize': 0,                  #   use clique merging heuristic based on clique size (default: 0)\n",
    "           'branch_rmin': 1e-5,         # minimum transmission line resistance (default: -inf)\n",
    "           'line_constraints': True,    # include apparent power flow constraints in problem formulation\n",
    "           'pad_constraints': True,     # include phase angle difference constraints\n",
    "           'truncate_gen_bounds': 1e3,  # reduce large generator bounds (default: None)\n",
    "           'verbose': 1,                # print info, progress, etc. (default: 0)\n",
    "           'scale': False               # apply scaling heuristic to cone LP? (default: False)\n",
    "          }\n",
    "\n",
    "%time prob = opf(testcases[case], **options)\n",
    "\n",
    "print(prob)"
   ]
  },
  {
   "cell_type": "markdown",
   "metadata": {},
   "source": [
    "The semidefinite relaxation can be solved with MOSEK as follows:"
   ]
  },
  {
   "cell_type": "code",
   "execution_count": 3,
   "metadata": {},
   "outputs": [],
   "source": [
    "# Set MOSEK tolerances \n",
    "from opfsdr import msk\n",
    "msk.options[msk.mosek.dparam.intpnt_co_tol_pfeas] = 1e-9    # default: 1e-8\n",
    "msk.options[msk.mosek.dparam.intpnt_co_tol_dfeas] = 1e-9    # default: 1e-8\n",
    "msk.options[msk.mosek.dparam.intpnt_co_tol_rel_gap] = 1e-8  # default: 1e-7"
   ]
  },
  {
   "cell_type": "code",
   "execution_count": 4,
   "metadata": {
    "scrolled": true
   },
   "outputs": [
    {
     "name": "stdout",
     "output_type": "stream",
     "text": [
      "Problem\n",
      "  Name                   :                 \n",
      "  Objective sense        : max             \n",
      "  Type                   : CONIC (conic optimization problem)\n",
      "  Constraints            : 17345           \n",
      "  Cones                  : 2864            \n",
      "  Scalar variables       : 12340           \n",
      "  Matrix variables       : 233             \n",
      "  Integer variables      : 0               \n",
      "\n",
      "Optimizer started.\n",
      "Presolve started.\n",
      "Linear dependency checker started.\n",
      "Linear dependency checker terminated.\n",
      "Eliminator - tries                  : 0                 time                   : 0.00            \n",
      "Lin. dep.  - tries                  : 1                 time                   : 0.00            \n",
      "Lin. dep.  - number                 : 0               \n",
      "Presolve terminated. Time: 0.02    \n",
      "Problem\n",
      "  Name                   :                 \n",
      "  Objective sense        : max             \n",
      "  Type                   : CONIC (conic optimization problem)\n",
      "  Constraints            : 17345           \n",
      "  Cones                  : 2864            \n",
      "  Scalar variables       : 12340           \n",
      "  Matrix variables       : 233             \n",
      "  Integer variables      : 0               \n",
      "\n",
      "Optimizer  - threads                : 4               \n",
      "Optimizer  - solved problem         : the primal      \n",
      "Optimizer  - Constraints            : 13961\n",
      "Optimizer  - Cones                  : 2864\n",
      "Optimizer  - Scalar variables       : 11820             conic                  : 8592            \n",
      "Optimizer  - Semi-definite variables: 233               scalarized             : 42951           \n",
      "Factor     - setup time             : 0.17              dense det. time        : 0.00            \n",
      "Factor     - ML order time          : 0.05              GP order time          : 0.00            \n",
      "Factor     - nonzeros before factor : 1.16e+06          after factor           : 1.32e+06        \n",
      "Factor     - dense dim.             : 0                 flops                  : 2.40e+08        \n",
      "ITE PFEAS    DFEAS    GFEAS    PRSTATUS   POBJ              DOBJ              MU       TIME  \n",
      "0   2.0e+00  2.6e+02  1.0e+00  0.00e+00   2.303769000e+02   2.303769000e+02   1.0e+00  0.24  \n",
      "1   1.6e+00  2.0e+02  8.4e-01  -4.82e-01  4.984532114e+04   4.983775046e+04   8.0e-01  0.45  \n",
      "2   1.2e+00  1.5e+02  1.1e+00  7.57e-01   2.019070196e+04   2.024149935e+04   6.0e-01  0.60  \n",
      "3   6.2e-01  8.0e+01  1.1e+00  1.46e+00   1.536147295e+04   1.539061940e+04   3.1e-01  0.72  \n",
      "4   4.9e-01  6.2e+01  1.0e+00  1.60e+00   1.244874634e+04   1.246879832e+04   2.4e-01  0.85  \n",
      "5   2.7e-01  3.4e+01  7.8e-01  1.50e+00   9.110870356e+03   9.119821558e+03   1.3e-01  1.00  \n",
      "6   1.9e-01  2.5e+01  6.7e-01  1.28e+00   7.126592995e+03   7.132704301e+03   9.7e-02  1.14  \n",
      "7   9.9e-02  1.3e+01  4.8e-01  1.19e+00   4.516307800e+03   4.519226830e+03   5.0e-02  1.26  \n",
      "8   8.9e-02  1.1e+01  4.5e-01  1.07e+00   4.111217789e+03   4.113817780e+03   4.4e-02  1.39  \n",
      "9   5.1e-02  6.5e+00  3.3e-01  1.06e+00   2.662729721e+03   2.664183274e+03   2.5e-02  1.52  \n",
      "10  2.9e-02  3.8e+00  2.5e-01  1.02e+00   1.740699218e+03   1.741547921e+03   1.5e-02  1.68  \n",
      "11  2.3e-02  3.0e+00  2.3e-01  9.72e-01   1.457963194e+03   1.458643917e+03   1.2e-02  1.83  \n",
      "12  1.4e-02  1.7e+00  1.7e-01  9.69e-01   9.591328179e+02   9.595368818e+02   6.8e-03  1.95  \n",
      "13  8.9e-03  1.1e+00  1.3e-01  9.26e-01   6.786937407e+02   6.789619033e+02   4.5e-03  2.08  \n",
      "14  7.7e-03  9.8e-01  1.2e-01  8.71e-01   5.941827103e+02   5.944153478e+02   3.8e-03  2.21  \n",
      "15  6.2e-03  7.9e-01  1.1e-01  8.51e-01   4.877623510e+02   4.879536217e+02   3.1e-03  2.35  \n",
      "16  5.1e-03  6.6e-01  9.5e-02  8.25e-01   4.018727027e+02   4.020333167e+02   2.6e-03  2.48  \n",
      "17  3.8e-03  4.9e-01  8.0e-02  8.12e-01   2.834811309e+02   2.836028018e+02   1.9e-03  2.60  \n",
      "18  3.4e-03  4.4e-01  7.4e-02  7.72e-01   2.475446113e+02   2.476555022e+02   1.7e-03  2.73  \n",
      "19  3.0e-03  3.8e-01  6.7e-02  7.52e-01   1.964253381e+02   1.965222476e+02   1.5e-03  2.86  \n",
      "20  2.6e-03  3.3e-01  6.1e-02  7.52e-01   1.510431280e+02   1.511279182e+02   1.3e-03  2.98  \n",
      "21  2.2e-03  2.8e-01  5.5e-02  7.16e-01   1.062516689e+02   1.063251453e+02   1.1e-03  3.11  \n",
      "22  2.0e-03  2.6e-01  5.2e-02  6.91e-01   8.127784325e+01   8.134577449e+01   1.0e-03  3.23  \n",
      "23  1.8e-03  2.3e-01  4.9e-02  6.93e-01   5.327870822e+01   5.334054483e+01   9.1e-04  3.38  \n",
      "24  1.5e-03  2.0e-01  4.3e-02  6.99e-01   1.070185998e+01   1.075485028e+01   7.7e-04  3.52  \n",
      "25  1.3e-03  1.7e-01  3.9e-02  6.70e-01   -2.638583679e+01  -2.634033683e+01  6.6e-04  3.64  \n",
      "26  1.3e-03  1.6e-01  3.8e-02  6.45e-01   -4.024658521e+01  -4.020263698e+01  6.3e-04  3.76  \n",
      "27  1.0e-03  1.3e-01  3.3e-02  6.88e-01   -9.195792503e+01  -9.192287771e+01  5.0e-04  3.89  \n",
      "28  8.1e-04  1.0e-01  2.9e-02  7.01e-01   -1.306441229e+02  -1.306155134e+02  4.1e-04  4.04  \n",
      "29  7.6e-04  9.7e-02  2.7e-02  6.76e-01   -1.432846456e+02  -1.432580585e+02  3.8e-04  4.18  \n",
      "30  6.8e-04  8.7e-02  2.5e-02  6.90e-01   -1.605281345e+02  -1.605042100e+02  3.4e-04  4.30  \n",
      "31  5.6e-04  7.1e-02  2.2e-02  6.83e-01   -1.931575966e+02  -1.931383232e+02  2.8e-04  4.43  \n",
      "32  4.7e-04  6.1e-02  2.0e-02  6.62e-01   -2.159108412e+02  -2.158947150e+02  2.4e-04  4.55  \n",
      "33  4.3e-04  5.4e-02  1.8e-02  6.50e-01   -2.312965919e+02  -2.312823145e+02  2.1e-04  4.68  \n",
      "34  3.9e-04  5.0e-02  1.7e-02  6.30e-01   -2.415804295e+02  -2.415674536e+02  2.0e-04  4.80  \n",
      "35  3.3e-04  4.2e-02  1.5e-02  6.47e-01   -2.650038763e+02  -2.649935572e+02  1.6e-04  4.93  \n",
      "36  2.9e-04  3.7e-02  1.4e-02  5.94e-01   -2.784135917e+02  -2.784048249e+02  1.5e-04  5.08  \n",
      "37  2.5e-04  3.2e-02  1.2e-02  5.72e-01   -2.970208668e+02  -2.970138686e+02  1.2e-04  5.22  \n",
      "38  2.4e-04  3.0e-02  1.2e-02  5.71e-01   -3.028472597e+02  -3.028407597e+02  1.2e-04  5.37  \n",
      "39  2.3e-04  2.9e-02  1.1e-02  6.05e-01   -3.084237742e+02  -3.084175796e+02  1.1e-04  5.52  \n",
      "40  1.9e-04  2.5e-02  1.0e-02  6.02e-01   -3.271228638e+02  -3.271180169e+02  9.6e-05  5.67  \n",
      "41  1.8e-04  2.3e-02  9.7e-03  6.11e-01   -3.337313159e+02  -3.337268841e+02  9.0e-05  5.81  \n",
      "42  1.6e-04  2.0e-02  8.7e-03  6.04e-01   -3.480127869e+02  -3.480093744e+02  7.8e-05  5.95  \n",
      "43  1.4e-04  1.8e-02  8.2e-03  6.08e-01   -3.573020735e+02  -3.572991431e+02  7.1e-05  6.08  \n",
      "44  1.2e-04  1.6e-02  7.3e-03  6.27e-01   -3.719991043e+02  -3.719969900e+02  6.1e-05  6.20  \n",
      "45  1.2e-04  1.5e-02  7.2e-03  6.40e-01   -3.754300373e+02  -3.754279760e+02  5.8e-05  6.34  \n",
      "46  1.0e-04  1.3e-02  6.6e-03  6.56e-01   -3.863551712e+02  -3.863536213e+02  5.1e-05  6.49  \n",
      "47  8.9e-05  1.1e-02  5.9e-03  6.57e-01   -3.970607613e+02  -3.970597750e+02  4.4e-05  6.64  \n",
      "48  8.2e-05  1.1e-02  5.6e-03  6.56e-01   -4.022994445e+02  -4.022987161e+02  4.1e-05  6.76  \n",
      "49  7.4e-05  9.5e-03  5.2e-03  6.62e-01   -4.096133026e+02  -4.096128756e+02  3.7e-05  6.89  \n",
      "50  6.0e-05  7.7e-03  4.5e-03  6.66e-01   -4.233256072e+02  -4.233256949e+02  3.0e-05  7.01  \n",
      "51  5.5e-05  7.0e-03  4.2e-03  6.62e-01   -4.292625433e+02  -4.292628196e+02  2.7e-05  7.13  \n",
      "52  5.0e-05  6.4e-03  4.0e-03  7.05e-01   -4.347213854e+02  -4.347217712e+02  2.5e-05  7.26  \n",
      "53  4.3e-05  5.5e-03  3.6e-03  7.23e-01   -4.428613357e+02  -4.428618722e+02  2.2e-05  7.38  \n",
      "54  3.7e-05  4.7e-03  3.3e-03  7.29e-01   -4.508230556e+02  -4.508237261e+02  1.8e-05  7.50  \n",
      "55  2.9e-05  3.7e-03  2.8e-03  7.65e-01   -4.621674085e+02  -4.621681002e+02  1.4e-05  7.62  \n",
      "56  2.8e-05  3.6e-03  2.8e-03  8.10e-01   -4.637127268e+02  -4.637133844e+02  1.4e-05  7.75  \n",
      "57  1.9e-05  2.4e-03  2.2e-03  8.37e-01   -4.770091388e+02  -4.770097682e+02  9.4e-06  7.88  \n",
      "58  1.8e-05  2.3e-03  2.1e-03  8.43e-01   -4.789954438e+02  -4.789960993e+02  8.8e-06  8.00  \n",
      "59  1.1e-05  1.3e-03  1.6e-03  8.71e-01   -4.907992178e+02  -4.907997650e+02  5.3e-06  8.13  \n",
      "60  3.8e-06  4.9e-04  9.1e-04  9.38e-01   -5.029113119e+02  -5.029115679e+02  1.9e-06  8.25  \n",
      "61  2.6e-06  3.3e-04  7.3e-04  9.81e-01   -5.051639515e+02  -5.051641551e+02  1.3e-06  8.37  \n",
      "62  1.9e-06  2.4e-04  6.2e-04  9.88e-01   -5.064300000e+02  -5.064301681e+02  9.5e-07  8.50  \n",
      "63  8.8e-07  1.1e-04  4.1e-04  9.92e-01   -5.083961868e+02  -5.083962827e+02  4.4e-07  8.62  \n",
      "64  6.8e-07  8.7e-05  3.6e-04  9.97e-01   -5.088021399e+02  -5.088022178e+02  3.4e-07  8.74  \n",
      "65  2.8e-07  3.6e-05  2.2e-04  9.98e-01   -5.096321962e+02  -5.096322334e+02  1.4e-07  8.86  \n"
     ]
    },
    {
     "name": "stdout",
     "output_type": "stream",
     "text": [
      "66  2.1e-07  2.6e-05  1.9e-04  1.00e+00   -5.097875422e+02  -5.097875707e+02  1.0e-07  8.99  \n",
      "67  8.4e-08  1.1e-05  1.2e-04  1.00e+00   -5.100550584e+02  -5.100550707e+02  4.2e-08  9.11  \n",
      "68  6.2e-08  7.9e-06  1.0e-04  1.00e+00   -5.101041749e+02  -5.101041841e+02  3.1e-08  9.24  \n",
      "69  1.1e-08  1.4e-06  4.2e-05  1.00e+00   -5.102177528e+02  -5.102177547e+02  5.6e-09  9.36  \n",
      "70  2.7e-09  7.1e-07  2.1e-05  1.00e+00   -5.102375133e+02  -5.102375137e+02  1.3e-09  9.48  \n",
      "71  4.4e-10  4.4e-06  7.8e-06  1.00e+00   -5.102428642e+02  -5.102428642e+02  1.9e-10  9.61  \n",
      "Optimizer terminated. Time: 9.63    \n",
      "\n",
      "\n",
      "Interior-point solution summary\n",
      "  Problem status  : PRIMAL_AND_DUAL_FEASIBLE\n",
      "  Solution status : OPTIMAL\n",
      "  Primal.  obj: -5.1024286416e+02   nrm: 2e+03    Viol.  con: 8e-05    var: 7e-06    barvar: 0e+00    cones: 0e+00  \n",
      "  Dual.    obj: -5.1024286467e+02   nrm: 4e+03    Viol.  con: 0e+00    var: 4e-10    barvar: 1e-10    cones: 3e-10  \n",
      "CPU times: user 18.8 s, sys: 914 ms, total: 19.7 s\n",
      "Wall time: 10.3 s\n"
     ]
    }
   ],
   "source": [
    "# Solve semidefinite relaxation\n",
    "%time sol = prob.solve(solver=\"mosek\")"
   ]
  },
  {
   "cell_type": "code",
   "execution_count": 5,
   "metadata": {},
   "outputs": [
    {
     "name": "stdout",
     "output_type": "stream",
     "text": [
      "Solver status: optimal\n"
     ]
    }
   ],
   "source": [
    "print(\"Solver status: %s\" % sol['status'])"
   ]
  },
  {
   "cell_type": "markdown",
   "metadata": {},
   "source": [
    "The objective value associated with the semidefinite relaxation does not include constant cost, and hence it is not necessarily equal to the cost of generation (the cost of generation is available as `sol['cost']`): "
   ]
  },
  {
   "cell_type": "code",
   "execution_count": 6,
   "metadata": {},
   "outputs": [
    {
     "name": "stdout",
     "output_type": "stream",
     "text": [
      "Generation cost: 74061.98 USD/hour (fixed cost: 23037.69 USD/hour)\n"
     ]
    }
   ],
   "source": [
    "print(\"Generation cost: %.2f USD/hour (fixed cost: %.2f USD/hour)\"%(sol['cost'],prob.const_cost))"
   ]
  },
  {
   "cell_type": "markdown",
   "metadata": {},
   "source": [
    "## Eigenvalue ratio(s)"
   ]
  },
  {
   "cell_type": "code",
   "execution_count": 7,
   "metadata": {},
   "outputs": [
    {
     "name": "stdout",
     "output_type": "stream",
     "text": [
      "Populating the interactive namespace from numpy and matplotlib\n",
      "Cliques with eigenvalue ratio less than 1e5: 2 of 233\n"
     ]
    },
    {
     "data": {
      "image/png": "[encoded data removed]",
      "text/plain": [
       "<Figure size 720x432 with 1 Axes>"
      ]
     },
     "metadata": {},
     "output_type": "display_data"
    }
   ],
   "source": [
    "%pylab inline\n",
    "from pylab import plot,xlabel,ylabel,arange,linspace,hist,xscale,rcParams\n",
    "rcParams['figure.figsize'] = (10, 6)\n",
    "\n",
    "if len(sol['eigratio']) == 1:\n",
    "    print(\"Eigenvalue ratio: %.2e\" % (sol['eigratio'][0]))\n",
    "else:\n",
    "    import numpy as np\n",
    "    hist(sol['eigratio'],bins=[10.**a for a in linspace(0,9,100)])\n",
    "    xscale('log')\n",
    "    xlabel('Clique eigenvalue ratio')\n",
    "    ylabel('Frequency')\n",
    "    print(\"Cliques with eigenvalue ratio less than 1e5: %i of %i\"\\\n",
    "          % (len([1 for evr in sol['eigratio'] if evr < 1e5]),len(sol['eigratio'])))"
   ]
  },
  {
   "cell_type": "markdown",
   "metadata": {},
   "source": [
    "## Generation"
   ]
  },
  {
   "cell_type": "code",
   "execution_count": 8,
   "metadata": {},
   "outputs": [
    {
     "data": {
      "image/png": "[encoded data removed]",
      "text/plain": [
       "<Figure size 432x288 with 1 Axes>"
      ]
     },
     "metadata": {},
     "output_type": "display_data"
    }
   ],
   "source": [
    "pmin = np.array([gen['Pmin'] for gen in prob.generators])*prob.baseMVA\n",
    "pmax = np.array([gen['Pmax'] for gen in prob.generators])*prob.baseMVA\n",
    "hist((np.array(sol['Sg'].real().T).squeeze()-pmin)/(pmax-pmin),20)\n",
    "xlabel(r'$\\frac{P_{\\mathrm{g}}-P_{\\mathrm{g}}^{\\min}}{P_{\\mathrm{g}}^{\\max} - P_{\\mathrm{g}}^{\\min}}$')\n",
    "ylabel('Number of generators');"
   ]
  },
  {
   "cell_type": "code",
   "execution_count": 9,
   "metadata": {},
   "outputs": [
    {
     "data": {
      "image/png": "[encoded data removed]",
      "text/plain": [
       "<Figure size 432x288 with 1 Axes>"
      ]
     },
     "metadata": {},
     "output_type": "display_data"
    }
   ],
   "source": [
    "pmin = np.array([gen['Qmin'] for gen in prob.generators])*prob.baseMVA\n",
    "pmax = np.array([gen['Qmax'] for gen in prob.generators])*prob.baseMVA\n",
    "hist((np.array(sol['Sg'].imag().T).squeeze()-pmin)/(pmax-pmin),20)\n",
    "xlabel(r'$\\frac{Q_{\\mathrm{g}}-Q_{\\mathrm{g}}^{\\min}}{Q_{\\mathrm{g}}^{\\max} - Q_{\\mathrm{g}}^{\\min}}$')\n",
    "ylabel('Number of generators');"
   ]
  },
  {
   "cell_type": "markdown",
   "metadata": {},
   "source": [
    "## Voltage magnitude constraints"
   ]
  },
  {
   "cell_type": "code",
   "execution_count": 10,
   "metadata": {},
   "outputs": [
    {
     "data": {
      "image/png": "[encoded data removed]",
      "text/plain": [
       "<Figure size 432x288 with 1 Axes>"
      ]
     },
     "metadata": {},
     "output_type": "display_data"
    }
   ],
   "source": [
    "minvm = np.array([b['minVm'] for b in prob.busses])\n",
    "maxvm = np.array([b['maxVm'] for b in prob.busses])\n",
    "hist((np.array(sol['Vm']).squeeze()-minvm)/(maxvm-minvm),20)\n",
    "xlabel(r'$\\frac{|V| - V_{\\min}}{V_{\\max}-V_{\\min}}$')\n",
    "ylabel('Number of busses');"
   ]
  },
  {
   "cell_type": "markdown",
   "metadata": {},
   "source": [
    "## Flow constraints"
   ]
  },
  {
   "cell_type": "code",
   "execution_count": 11,
   "metadata": {
    "scrolled": false
   },
   "outputs": [
    {
     "data": {
      "image/png": "[encoded data removed]",
      "text/plain": [
       "<Figure size 432x288 with 1 Axes>"
      ]
     },
     "metadata": {},
     "output_type": "display_data"
    }
   ],
   "source": [
    "if prob.branches_with_flow_constraints():\n",
    "    Sapp = np.array(abs(sol['St'])).squeeze()\n",
    "    Smax = np.array([br['rateA'] for _,br in prob.branches_with_flow_constraints()])\n",
    "    hist(Sapp/Smax,20)\n",
    "    \n",
    "    pyplot.xlabel(r'$\\frac{|S_{i,j}|}{S_{i,j}^{\\max}}$')\n",
    "    pyplot.ylabel('Number of transmission lines')\n",
    "else:\n",
    "    print(\"No flow constraints.\")"
   ]
  }
 ],
 "metadata": {
  "kernelspec": {
   "display_name": "Python 3",
   "language": "python",
   "name": "python3"
  },
  "language_info": {
   "codemirror_mode": {
    "name": "ipython",
    "version": 3
   },
   "file_extension": ".py",
   "mimetype": "text/x-python",
   "name": "python",
   "nbconvert_exporter": "python",
   "pygments_lexer": "ipython3",
   "version": "3.6.5"
  },
  "toc": {
   "nav_menu": {},
   "number_sections": true,
   "sideBar": true,
   "skip_h1_title": false,
   "title_cell": "Table of Contents",
   "title_sidebar": "Contents",
   "toc_cell": false,
   "toc_position": {},
   "toc_section_display": true,
   "toc_window_display": false
  }
 },
 "nbformat": 4,
 "nbformat_minor": 2
}
