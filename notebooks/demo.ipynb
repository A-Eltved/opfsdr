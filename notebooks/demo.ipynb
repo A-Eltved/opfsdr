{
 "cells": [
  {
   "cell_type": "markdown",
   "metadata": {
    "deletable": true,
    "editable": true
   },
   "source": [
    "# Semidefinite Relaxation of AC Optimal Power Flow Problems"
   ]
  },
  {
   "cell_type": "markdown",
   "metadata": {
    "deletable": true,
    "editable": true
   },
   "source": [
    "This notebook demonstrates the use of semidefinite relaxation techniques for AC optimal power flow (ACOPF) problems. A description of the problem formulation and its implementation can be found in the following paper:\n",
    "\n",
    "> M. S. Andersen, A. Hansson, L. Vandenberghe, \"[Reduced-Complexity Semidefinite Relaxations of Optimal Power Flow Problems](https://doi.org/10.1109/TPWRS.2013.2294479)\", IEEE Transactions on Power Systems, 29 (4), pp. 1855–1863, 2014.\n",
    "\n",
    "To run this notebook, you will need [CVXOPT](http://cvxopt.org), [CHOMPACK](https://cvxopt.github.io/chompack), [MOSEK](https://www.mosek.com), and [Matplotlib](http://matplotlib.org)."
   ]
  },
  {
   "cell_type": "markdown",
   "metadata": {
    "deletable": true,
    "editable": true
   },
   "source": [
    "## Test cases\n",
    "\n",
    "[MATPOWER](https://github.com/MATPOWER/matpower) provides a number of test cases that are basically MATLAB m-files, most of which (those that do not perform any computations) can be loaded directly from a file or from a url. For example, the following code\n",
    "```\n",
    "from opfsdr import opf\n",
    "prob = opf('https://github.com/MATPOWER/matpower/blob/master/data/case300.m')\n",
    "```\n",
    "downloads the `case300` test case from the MATPOWER repository on Github and generates a semidefinite relaxation problem. Alternatively, using the [Github API](https://developer.github.com/v3/), a list of test cases and their urls can be retrieved from the MATPOWER repository as follows:"
   ]
  },
  {
   "cell_type": "code",
   "execution_count": 1,
   "metadata": {
    "collapsed": false,
    "deletable": true,
    "editable": true
   },
   "outputs": [],
   "source": [
    "import json, re\n",
    "from urllib import urlopen\n",
    "response = urlopen('https://api.github.com/repos/MATPOWER/matpower/contents/data')\n",
    "clist = json.loads(response.read())\n",
    "testcases = []\n",
    "for c in clist:\n",
    "    casename = c['name'].split('.')[0]\n",
    "    testcases.append({'name':casename,\n",
    "                      'url': c['download_url'],\n",
    "                      'busses': int(re.search('case[a-z\\_]*([0-9]+)',casename).group(1))})"
   ]
  },
  {
   "cell_type": "markdown",
   "metadata": {
    "deletable": true,
    "editable": true
   },
   "source": [
    "## Building and solving ACOPFs\n",
    "\n",
    "The following example illustrates how to use `opfsdr` to download a test case, form a semidefinite relaxation problem, and how solve this problem:"
   ]
  },
  {
   "cell_type": "code",
   "execution_count": 2,
   "metadata": {
    "collapsed": false,
    "deletable": true,
    "editable": true,
    "scrolled": true
   },
   "outputs": [
    {
     "name": "stdout",
     "output_type": "stream",
     "text": [
      "Test case: case1354pegase\n",
      "Downloading case file: https://raw.githubusercontent.com/MATPOWER/matpower/master/data/case1354pegase.m.\n",
      "Extracting data from case file.\n",
      "Warning: generator at bus 4231 with large active bound(s); decreasing bound(s)\n",
      "Warning: generator at bus 4231 with large reactive bound(s); decreasing bound(s)\n",
      "Warning: generator at bus 8109 with large reactive bound(s); decreasing bound(s)\n",
      "Warning: branch (1780:549->5002) with small resistance; enforcing min. resistance\n",
      "Building cone LP.\n",
      "Applying chordal conversion to cone LP.\n",
      "Converting to real-valued cone LP.\n",
      "CPU times: user 1.07 s, sys: 227 ms, total: 1.29 s\n",
      "Wall time: 1.46 s\n",
      "Optimal power flow problem\n",
      "* busses             :   1354\n",
      "* generators         :    260\n",
      "   -  const. gen.    :      0\n",
      "   -  lin. cost      :    260\n",
      "   -  quad. cost     :      0\n",
      "* branches           :   1991\n",
      "   -  constrained    :   1432\n",
      "   -  transformer    :    234\n"
     ]
    }
   ],
   "source": [
    "from opfsdr import opf\n",
    "\n",
    "# select first test case with 1354 busses\n",
    "case = [tc for tc in testcases if tc['busses'] == 1354][0]\n",
    "print(\"Test case: %s\" % case['name'])\n",
    "options = {'conversion': True,          # apply chordal conversion? (default: False)\n",
    "           'tfill': 8,                  #   use clique merging heuristic based on fill (default: 0)\n",
    "           'tsize': 8,                  #   use clique merging heuristic based on clique size (default: 0)\n",
    "           'branch_rmin': 1e-5,         # minimum transmission line resistance (default: -inf)\n",
    "           'line_constraints': True,    # include apparent power flow constraints in problem formulation\n",
    "           'truncate_gen_bounds': 40.,  # reduce large generator bounds (default: None)\n",
    "           'verbose': 1,                # print info, progress, etc. (default: 0)\n",
    "           'scale': False               # apply scaling heuristic to cone LP? (default: False)\n",
    "          }\n",
    "\n",
    "%time prob = opf(case['url'], **options)\n",
    "print(prob)"
   ]
  },
  {
   "cell_type": "markdown",
   "metadata": {
    "deletable": true,
    "editable": true
   },
   "source": [
    "The semidefinite relaxation can be solved with MOSEK as follows:"
   ]
  },
  {
   "cell_type": "code",
   "execution_count": 3,
   "metadata": {
    "collapsed": false,
    "deletable": true,
    "editable": true,
    "scrolled": true
   },
   "outputs": [
    {
     "name": "stdout",
     "output_type": "stream",
     "text": [
      "Problem\n",
      "  Name                   :                 \n",
      "  Objective sense        : max             \n",
      "  Type                   : CONIC (conic optimization problem)\n",
      "  Constraints            : 17238           \n",
      "  Cones                  : 2864            \n",
      "  Scalar variables       : 12340           \n",
      "  Matrix variables       : 203             \n",
      "  Integer variables      : 0               \n",
      "\n",
      "Optimizer started.\n",
      "Conic interior-point optimizer started.\n",
      "Presolve started.\n",
      "Linear dependency checker started.\n",
      "Linear dependency checker terminated.\n",
      "Eliminator - tries                  : 0                 time                   : 0.00            \n",
      "Lin. dep.  - tries                  : 1                 time                   : 0.01            \n",
      "Lin. dep.  - number                 : 0               \n",
      "Presolve terminated. Time: 0.03    \n",
      "Optimizer  - threads                : 4               \n",
      "Optimizer  - solved problem         : the primal      \n",
      "Optimizer  - Constraints            : 13854\n",
      "Optimizer  - Cones                  : 2864\n",
      "Optimizer  - Scalar variables       : 11820             conic                  : 8592            \n",
      "Optimizer  - Semi-definite variables: 203               scalarized             : 53418           \n",
      "Factor     - setup time             : 0.32              dense det. time        : 0.00            \n",
      "Factor     - ML order time          : 0.14              GP order time          : 0.00            \n",
      "Factor     - nonzeros before factor : 1.39e+06          after factor           : 1.56e+06        \n",
      "Factor     - dense dim.             : 0                 flops                  : 3.04e+08        \n",
      "ITE PFEAS    DFEAS    GFEAS    PRSTATUS   POBJ              DOBJ              MU       TIME  \n",
      "0   2.0e+00  2.6e+02  1.0e+00  0.00e+00   0.000000000e+00   0.000000000e+00   1.0e+00  0.41  \n",
      "1   1.6e+00  2.0e+02  8.4e-01  -4.84e-01  4.959563580e+04   4.958781867e+04   8.0e-01  0.87  \n",
      "2   1.2e+00  1.5e+02  1.1e+00  7.49e-01   2.005302665e+04   2.010362680e+04   6.0e-01  1.20  \n",
      "3   6.1e-01  7.9e+01  1.1e+00  1.45e+00   1.518930889e+04   1.521826167e+04   3.1e-01  1.38  \n",
      "4   4.8e-01  6.1e+01  1.0e+00  1.59e+00   1.233102900e+04   1.235089163e+04   2.4e-01  1.55  \n",
      "5   2.7e-01  3.4e+01  7.8e-01  1.49e+00   9.121169876e+03   9.130282484e+03   1.3e-01  1.71  \n",
      "6   1.9e-01  2.4e+01  6.6e-01  1.28e+00   7.052224531e+03   7.058284717e+03   9.5e-02  1.87  \n",
      "7   9.8e-02  1.3e+01  4.8e-01  1.19e+00   4.509813777e+03   4.512742116e+03   4.9e-02  2.06  \n",
      "8   8.8e-02  1.1e+01  4.5e-01  1.06e+00   4.107027967e+03   4.109636512e+03   4.4e-02  2.22  \n",
      "9   5.0e-02  6.4e+00  3.3e-01  1.06e+00   2.649033252e+03   2.650481495e+03   2.5e-02  2.37  \n",
      "10  2.9e-02  3.7e+00  2.5e-01  1.02e+00   1.731094548e+03   1.731940613e+03   1.4e-02  2.52  \n",
      "11  2.3e-02  3.0e+00  2.3e-01  9.74e-01   1.467914197e+03   1.468603009e+03   1.2e-02  2.69  \n",
      "12  1.8e-02  2.3e+00  2.0e-01  9.41e-01   1.190288566e+03   1.190827882e+03   9.0e-03  2.87  \n",
      "13  9.8e-03  1.3e+00  1.4e-01  9.36e-01   7.381210781e+02   7.384193879e+02   4.9e-03  3.05  \n",
      "14  7.4e-03  9.5e-01  1.2e-01  8.70e-01   5.790767622e+02   5.793060808e+02   3.7e-03  3.22  \n",
      "15  6.0e-03  7.7e-01  1.1e-01  8.39e-01   4.793022667e+02   4.794927113e+02   3.0e-03  3.53  \n",
      "16  5.0e-03  6.4e-01  9.4e-02  8.14e-01   3.954028107e+02   3.955631230e+02   2.5e-03  3.82  \n",
      "17  3.7e-03  4.8e-01  7.9e-02  8.03e-01   2.794252716e+02   2.795470427e+02   1.9e-03  4.07  \n",
      "18  3.3e-03  4.3e-01  7.3e-02  7.60e-01   2.411753042e+02   2.412856107e+02   1.7e-03  4.23  \n",
      "19  2.8e-03  3.6e-01  6.5e-02  7.44e-01   1.832237623e+02   1.833181635e+02   1.4e-03  4.39  \n",
      "20  2.4e-03  3.1e-01  5.9e-02  7.40e-01   1.391651645e+02   1.392477562e+02   1.2e-03  4.57  \n",
      "21  2.1e-03  2.6e-01  5.2e-02  7.05e-01   8.927585352e+01   8.934596849e+01   1.0e-03  4.77  \n",
      "22  1.8e-03  2.3e-01  4.8e-02  6.98e-01   5.059641552e+01   5.065821606e+01   8.9e-04  4.95  \n",
      "23  1.5e-03  1.9e-01  4.3e-02  6.98e-01   8.532369630e+00   8.585288850e+00   7.6e-04  5.11  \n",
      "24  1.3e-03  1.7e-01  3.8e-02  6.66e-01   -2.792672711e+01  -2.788121854e+01  6.5e-04  5.26  \n",
      "25  1.2e-03  1.6e-01  3.8e-02  6.35e-01   -4.256934722e+01  -4.252555222e+01  6.2e-04  5.42  \n",
      "26  9.8e-04  1.3e-01  3.2e-02  6.85e-01   -9.276387066e+01  -9.272872291e+01  4.9e-04  5.58  \n",
      "27  8.0e-04  1.0e-01  2.8e-02  6.97e-01   -1.324514688e+02  -1.324229891e+02  4.0e-04  5.73  \n",
      "28  7.4e-04  9.5e-02  2.7e-02  6.74e-01   -1.454319195e+02  -1.454055229e+02  3.7e-04  5.88  \n",
      "29  6.7e-04  8.6e-02  2.5e-02  6.88e-01   -1.613726814e+02  -1.613487595e+02  3.4e-04  6.04  \n",
      "30  5.5e-04  7.0e-02  2.2e-02  6.85e-01   -1.937091731e+02  -1.936899118e+02  2.7e-04  6.20  \n",
      "31  4.7e-04  6.0e-02  1.9e-02  6.60e-01   -2.163173575e+02  -2.163012532e+02  2.3e-04  6.35  \n",
      "32  4.2e-04  5.4e-02  1.8e-02  6.47e-01   -2.317270513e+02  -2.317128202e+02  2.1e-04  6.51  \n",
      "33  3.9e-04  5.0e-02  1.7e-02  6.28e-01   -2.420038648e+02  -2.419909424e+02  1.9e-04  6.67  \n",
      "34  3.2e-04  4.1e-02  1.5e-02  6.46e-01   -2.651190394e+02  -2.651087588e+02  1.6e-04  6.82  \n",
      "35  2.8e-04  3.6e-02  1.3e-02  5.93e-01   -2.824703681e+02  -2.824620533e+02  1.4e-04  6.97  \n",
      "36  2.4e-04  3.0e-02  1.2e-02  5.72e-01   -3.025213083e+02  -3.025148492e+02  1.2e-04  7.12  \n",
      "37  2.2e-04  2.9e-02  1.1e-02  5.71e-01   -3.089514476e+02  -3.089454192e+02  1.1e-04  7.27  \n",
      "38  1.8e-04  2.3e-02  9.8e-03  6.12e-01   -3.307576367e+02  -3.307531355e+02  9.2e-05  7.47  \n",
      "39  1.6e-04  2.1e-02  9.1e-03  6.11e-01   -3.417578665e+02  -3.417540683e+02  8.2e-05  7.86  \n",
      "40  1.5e-04  1.9e-02  8.5e-03  5.90e-01   -3.505038917e+02  -3.505007690e+02  7.5e-05  8.11  \n",
      "41  1.4e-04  1.8e-02  8.0e-03  6.14e-01   -3.575710219e+02  -3.575682959e+02  7.0e-05  8.45  \n",
      "42  1.2e-04  1.5e-02  7.2e-03  6.21e-01   -3.717251179e+02  -3.717231447e+02  6.0e-05  8.61  \n",
      "43  1.2e-04  1.5e-02  7.1e-03  6.35e-01   -3.752878601e+02  -3.752859402e+02  5.8e-05  8.77  \n",
      "44  1.0e-04  1.3e-02  6.5e-03  6.51e-01   -3.864398266e+02  -3.864384101e+02  5.0e-05  8.92  \n",
      "45  8.8e-05  1.1e-02  5.8e-03  6.55e-01   -3.970544381e+02  -3.970535601e+02  4.4e-05  9.18  \n",
      "46  8.1e-05  1.0e-02  5.5e-03  6.53e-01   -4.022600705e+02  -4.022594444e+02  4.1e-05  9.65  \n",
      "47  7.3e-05  9.4e-03  5.1e-03  6.58e-01   -4.095943638e+02  -4.095940433e+02  3.7e-05  10.00 \n",
      "48  5.9e-05  7.6e-03  4.4e-03  6.60e-01   -4.233874572e+02  -4.233876326e+02  3.0e-05  10.27 \n",
      "49  5.4e-05  6.9e-03  4.1e-03  6.60e-01   -4.295624571e+02  -4.295628292e+02  2.7e-05  10.45 \n",
      "50  4.9e-05  6.3e-03  3.9e-03  6.99e-01   -4.348530440e+02  -4.348535195e+02  2.5e-05  10.61 \n",
      "51  4.3e-05  5.5e-03  3.6e-03  7.18e-01   -4.427589739e+02  -4.427595931e+02  2.1e-05  10.79 \n",
      "52  3.7e-05  4.8e-03  3.2e-03  7.27e-01   -4.499242927e+02  -4.499250185e+02  1.9e-05  11.10 \n",
      "53  2.9e-05  3.7e-03  2.8e-03  7.63e-01   -4.614330414e+02  -4.614337866e+02  1.5e-05  11.26 \n",
      "54  2.5e-05  3.1e-03  2.5e-03  8.03e-01   -4.681447730e+02  -4.681454844e+02  1.2e-05  11.43 \n",
      "55  1.3e-05  1.7e-03  1.8e-03  8.50e-01   -4.851757017e+02  -4.851763367e+02  6.7e-06  11.61 \n",
      "56  1.2e-05  1.5e-03  1.6e-03  8.86e-01   -4.886983355e+02  -4.886989511e+02  5.8e-06  11.90 \n",
      "57  3.8e-06  4.9e-04  8.8e-04  9.16e-01   -5.026710238e+02  -5.026713429e+02  1.9e-06  12.22 \n",
      "58  2.4e-06  3.1e-04  6.9e-04  9.80e-01   -5.052783727e+02  -5.052786069e+02  1.2e-06  12.39 \n",
      "59  1.9e-06  2.4e-04  6.0e-04  9.88e-01   -5.063262638e+02  -5.063264594e+02  9.5e-07  12.56 \n",
      "60  8.5e-07  1.1e-04  3.9e-04  9.92e-01   -5.084044931e+02  -5.084045970e+02  4.3e-07  12.80 \n",
      "61  6.6e-07  8.5e-05  3.4e-04  9.97e-01   -5.088016718e+02  -5.088017560e+02  3.3e-07  13.11 \n",
      "62  3.8e-07  4.8e-05  2.6e-04  9.98e-01   -5.094080684e+02  -5.094081200e+02  1.9e-07  13.52 \n",
      "63  1.3e-07  1.7e-05  1.5e-04  1.00e+00   -5.099443034e+02  -5.099443237e+02  6.5e-08  13.70 \n",
      "64  6.2e-08  8.0e-06  1.0e-04  1.00e+00   -5.100985716e+02  -5.100985817e+02  3.1e-08  13.87 \n",
      "65  3.3e-08  4.2e-06  7.2e-05  1.00e+00   -5.101679307e+02  -5.101679361e+02  1.6e-08  14.12 \n",
      "66  6.2e-09  8.0e-07  3.2e-05  1.00e+00   -5.102291255e+02  -5.102291266e+02  3.1e-09  14.34 \n",
      "Interior-point optimizer terminated. Time: 14.36. \n",
      "\n",
      "Optimizer terminated. Time: 14.41   \n",
      "\n",
      "Interior-point solution summary\n",
      "  Problem status  : PRIMAL_AND_DUAL_FEASIBLE\n",
      "  Solution status : OPTIMAL\n",
      "  Primal.  obj: -5.1022912553e+02   nrm: 8e+01    Viol.  con: 1e-03    var: 1e-04    barvar: 0e+00    cones: 0e+00  \n",
      "  Dual.    obj: -5.1022912658e+02   nrm: 4e+03    Viol.  con: 0e+00    var: 6e-09    barvar: 8e-06    cones: 8e-09  \n",
      "CPU times: user 22.2 s, sys: 2.12 s, total: 24.3 s\n",
      "Wall time: 15.8 s\n"
     ]
    }
   ],
   "source": [
    "# Solve semidefinite relaxation\n",
    "%time sol = prob.solve(solver=\"mosek\")"
   ]
  },
  {
   "cell_type": "code",
   "execution_count": 4,
   "metadata": {
    "collapsed": false,
    "deletable": true,
    "editable": true
   },
   "outputs": [
    {
     "name": "stdout",
     "output_type": "stream",
     "text": [
      "Solver status: optimal\n"
     ]
    }
   ],
   "source": [
    "print(\"Solver status: %s\" % sol['status'])"
   ]
  },
  {
   "cell_type": "markdown",
   "metadata": {
    "deletable": true,
    "editable": true
   },
   "source": [
    "The objective value associated with the semidefinite relaxation does not include constant cost, and hence it is not necessarily equal to the cost of generation: the cost of generation is available as `sol['cost']`: "
   ]
  },
  {
   "cell_type": "code",
   "execution_count": 5,
   "metadata": {
    "collapsed": false,
    "deletable": true,
    "editable": true
   },
   "outputs": [
    {
     "name": "stdout",
     "output_type": "stream",
     "text": [
      "Generation cost: 74060.60 USD/hour (fixed cost: 23037.69 USD/hour)\n"
     ]
    }
   ],
   "source": [
    "print(\"Generation cost: %.2f USD/hour (fixed cost: %.2f USD/hour)\"%(sol['cost'],prob.const_cost))"
   ]
  },
  {
   "cell_type": "markdown",
   "metadata": {
    "deletable": true,
    "editable": true
   },
   "source": [
    "## Eigenvalue ratio(s)"
   ]
  },
  {
   "cell_type": "code",
   "execution_count": 6,
   "metadata": {
    "collapsed": false,
    "deletable": true,
    "editable": true
   },
   "outputs": [
    {
     "name": "stdout",
     "output_type": "stream",
     "text": [
      "Populating the interactive namespace from numpy and matplotlib\n",
      "Cliques with eigenvalue ratio less than 1e5: 3 of 203\n"
     ]
    },
    {
     "data": {
      "image/png": "[encoded data removed]",
      "text/plain": [
       "<matplotlib.figure.Figure at 0x113ebd850>"
      ]
     },
     "metadata": {},
     "output_type": "display_data"
    }
   ],
   "source": [
    "%pylab inline\n",
    "from pylab import plot,xlabel,ylabel,arange,linspace,hist,xscale,rcParams\n",
    "rcParams['figure.figsize'] = (10, 6)\n",
    "\n",
    "if len(sol['eigratio']) == 1:\n",
    "    print(\"Eigenvalue ratio: %.2e\" % (sol['eigratio'][0]))\n",
    "else:\n",
    "    import numpy as np\n",
    "    hist(sol['eigratio'],bins=[10.**a for a in linspace(0,9,100)])\n",
    "    xscale('log')\n",
    "    xlabel('Clique eigenvalue ratio')\n",
    "    ylabel('Frequency')\n",
    "    print(\"Cliques with eigenvalue ratio less than 1e5: %i of %i\"\\\n",
    "          % (len([1 for evr in sol['eigratio'] if evr < 1e5]),len(sol['eigratio'])))"
   ]
  },
  {
   "cell_type": "markdown",
   "metadata": {
    "deletable": true,
    "editable": true
   },
   "source": [
    "## Generation"
   ]
  },
  {
   "cell_type": "code",
   "execution_count": 7,
   "metadata": {
    "collapsed": false,
    "deletable": true,
    "editable": true
   },
   "outputs": [
    {
     "data": {
      "image/png": "[encoded data removed]",
      "text/plain": [
       "<matplotlib.figure.Figure at 0x110569710>"
      ]
     },
     "metadata": {},
     "output_type": "display_data"
    }
   ],
   "source": [
    "pmin = np.array([gen['Pmin'] for gen in prob.generators])*prob.baseMVA\n",
    "pmax = np.array([gen['Pmax'] for gen in prob.generators])*prob.baseMVA\n",
    "hist((np.array(sol['Sg'].real().T).squeeze()-pmin)/(pmax-pmin),20)\n",
    "xlabel(r'$\\frac{P_{\\mathrm{g}}-P_{\\mathrm{g}}^{\\min}}{P_{\\mathrm{g}}^{\\max} - P_{\\mathrm{g}}^{\\min}}$')\n",
    "ylabel('Number of generators');"
   ]
  },
  {
   "cell_type": "code",
   "execution_count": 8,
   "metadata": {
    "collapsed": false,
    "deletable": true,
    "editable": true
   },
   "outputs": [
    {
     "data": {
      "image/png": "[encoded data removed]",
      "text/plain": [
       "<matplotlib.figure.Figure at 0x1149fa110>"
      ]
     },
     "metadata": {},
     "output_type": "display_data"
    }
   ],
   "source": [
    "pmin = np.array([gen['Qmin'] for gen in prob.generators])*prob.baseMVA\n",
    "pmax = np.array([gen['Qmax'] for gen in prob.generators])*prob.baseMVA\n",
    "hist((np.array(sol['Sg'].imag().T).squeeze()-pmin)/(pmax-pmin),20)\n",
    "xlabel(r'$\\frac{Q_{\\mathrm{g}}-Q_{\\mathrm{g}}^{\\min}}{Q_{\\mathrm{g}}^{\\max} - Q_{\\mathrm{g}}^{\\min}}$')\n",
    "ylabel('Number of generators');"
   ]
  },
  {
   "cell_type": "markdown",
   "metadata": {
    "deletable": true,
    "editable": true
   },
   "source": [
    "## Voltage magnitude constraints"
   ]
  },
  {
   "cell_type": "code",
   "execution_count": 9,
   "metadata": {
    "collapsed": false,
    "deletable": true,
    "editable": true
   },
   "outputs": [
    {
     "data": {
      "image/png": "[encoded data removed]",
      "text/plain": [
       "<matplotlib.figure.Figure at 0x103f03b10>"
      ]
     },
     "metadata": {},
     "output_type": "display_data"
    }
   ],
   "source": [
    "minvm = np.array([b['minVm'] for b in prob.busses])\n",
    "maxvm = np.array([b['maxVm'] for b in prob.busses])\n",
    "hist((np.array(sol['Vm']).squeeze()-minvm)/(maxvm-minvm),20)\n",
    "xlabel(r'$\\frac{|V| - V_{\\min}}{V_{\\max}-V_{\\min}}$')\n",
    "ylabel('Number of busses');"
   ]
  },
  {
   "cell_type": "markdown",
   "metadata": {
    "deletable": true,
    "editable": true
   },
   "source": [
    "## Flow constraints"
   ]
  },
  {
   "cell_type": "code",
   "execution_count": 10,
   "metadata": {
    "collapsed": false,
    "deletable": true,
    "editable": true,
    "scrolled": false
   },
   "outputs": [
    {
     "data": {
      "image/png": "[encoded data removed]",
      "text/plain": [
       "<matplotlib.figure.Figure at 0x114b313d0>"
      ]
     },
     "metadata": {},
     "output_type": "display_data"
    }
   ],
   "source": [
    "if prob.branches_with_flow_constraints():\n",
    "    Sapp = np.array(abs(sol['St'])).squeeze()\n",
    "    Smax = np.array([br['rateA'] for _,br in prob.branches_with_flow_constraints()])\n",
    "    hist(Sapp/Smax,20)\n",
    "    \n",
    "    pyplot.xlabel(r'$\\frac{|S_{i,j}|}{S_{i,j}^{\\max}}$')\n",
    "    pyplot.ylabel('Number of transmission lines')\n",
    "else:\n",
    "    print(\"No flow constraints.\")"
   ]
  }
 ],
 "metadata": {
  "kernelspec": {
   "display_name": "Python 2",
   "language": "python",
   "name": "python2"
  },
  "language_info": {
   "codemirror_mode": {
    "name": "ipython",
    "version": 2
   },
   "file_extension": ".py",
   "mimetype": "text/x-python",
   "name": "python",
   "nbconvert_exporter": "python",
   "pygments_lexer": "ipython2",
   "version": "2.7.12"
  }
 },
 "nbformat": 4,
 "nbformat_minor": 2
}
